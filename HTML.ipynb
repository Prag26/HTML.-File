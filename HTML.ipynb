{
  "nbformat": 4,
  "nbformat_minor": 0,
  "metadata": {
    "colab": {
      "provenance": []
    },
    "kernelspec": {
      "name": "python3",
      "display_name": "Python 3"
    },
    "language_info": {
      "name": "python"
    }
  },
  "cells": [
    {
      "cell_type": "markdown",
      "source": [
        "# Write a simple program in HTML that displays the heading \"HTML defines the content and structure of your website\" on the web browser ?\n"
      ],
      "metadata": {
        "id": "SuGwnPYllPem"
      }
    },
    {
      "cell_type": "code",
      "source": [
        "<!DOCTYPE html>\n",
        "<html>\n",
        "<head>\n",
        "<title> Simple HTML Heading </title>\n",
        "</head>\n",
        "<body>\n",
        "<h1>HTML defines the content and structure of your website</h1>\n",
        "</body>\n",
        "</html>\n"
      ],
      "metadata": {
        "id": "mQNlsduolvMH"
      },
      "execution_count": null,
      "outputs": []
    },
    {
      "cell_type": "markdown",
      "source": [
        "# Explain the purpose of comments in HTML and provide an example of how to use  comments in an HTML document?\n"
      ],
      "metadata": {
        "id": "9jJ3eBBMmcAV"
      }
    },
    {
      "cell_type": "markdown",
      "source": [
        "In HTML , comments are piece of text within the code that are completely ignored by the browser, allowing developers to add explainatory notes or reminder without affecting the displayed web page. They are used to document the code, making it easier to understand and maintain , especially for complex prtojects or when revisiting code later."
      ],
      "metadata": {
        "id": "2bvrjivtm2xe"
      }
    },
    {
      "cell_type": "markdown",
      "source": [
        "Example: comments in HTML\n",
        "Syntex : <!--your comments here-->\n"
      ],
      "metadata": {
        "id": "ITZn0Hpqn5gS"
      }
    },
    {
      "cell_type": "code",
      "source": [
        "<!DOCTYPE html>\n",
        "<html>\n",
        "<head>\n",
        "<title>Example with comments</title>\n",
        "</head>\n",
        "<body>\n",
        "<h1>welcome to our website!</h1>\n",
        "<!--This paragraph is a placeholder for future content-->\n",
        "<p>more information will be added here soon</p>\n",
        "<p> contact us for more details</p>\n",
        "</body>\n",
        "</html>"
      ],
      "metadata": {
        "id": "GKTF1tXfoMm7"
      },
      "execution_count": null,
      "outputs": []
    },
    {
      "cell_type": "markdown",
      "source": [
        "Key uses of HTML comments:-\n",
        "\n",
        "1.) Documentry code section :- explain purpose of a particular section of code ,especially when dealing with complex logic.\n",
        "\n",
        "2.)Temporary hiding code :-  comments out a part of the code to test diffrerent functionalities without deleting it permanently.\n",
        "\n",
        "3.)Leaving notes for collaborators :-  communicate important details or reminders to other developers working on the project.\n",
        "\n",
        "IMPORTANT POINTS\n",
        "\n",
        ". Comments can span multiple line.\n",
        "\n",
        ". Be descreiptive and concise with your comments to enhence readablity.\n",
        "\n",
        ". Use comments strategically to provide valueable information without cluttering the code."
      ],
      "metadata": {
        "id": "HS4lTbIgpmku"
      }
    },
    {
      "cell_type": "markdown",
      "source": [
        "# write a program of HTML that includes heading, a paragraph of text, a horizontal line, and a line break. arrange these elements to create a simple webpage layout?\n"
      ],
      "metadata": {
        "id": "0dFB8GDJsEKE"
      }
    },
    {
      "cell_type": "code",
      "source": [
        "<!DOCTYPE html>\n",
        "<html>\n",
        "<head>\n",
        "<title>Simple WebPage</title>\n",
        "</head>\n",
        "<body>\n",
        "<h1>Welcome to our Website</h1>\n",
        "<p> This is a short paragraph explaining the contentof our page.You can add more information about your Website here</p>\n",
        "<hr>\n",
        "<p> some addition text below the horizontal line.</p>\n",
        "</body>\n",
        "</html>"
      ],
      "metadata": {
        "id": "EHJothris5XI"
      },
      "execution_count": null,
      "outputs": []
    },
    {
      "cell_type": "markdown",
      "source": [
        "EXPLAINATION :--\n",
        "\n",
        "BASIC HTML STRUCTURE\n",
        "\n",
        "* < !DOCTYPE html > : declear the documents as HTML 5.\n",
        "\n",
        "* < html > : the root element of the HTML documents.\n",
        "\n",
        "* < head > : Contains metadata like the title.\n",
        "\n",
        "* < title > : Sets the title that appears in the browsers tab.\n",
        "\n",
        "* < body > : Contains the content visible on the page.\n",
        "\n",
        " *    HEADING\n",
        "    < h1 > : create  a toplevel heading which is usually the largest text on the page.\n",
        "\n",
        " *  Paragraph\n",
        "   < p > defines  a paragraph block.\n",
        "\n",
        "* Horizontal line\n",
        "  < hr > : create a horozontal line to visually seprate content sections.  "
      ],
      "metadata": {
        "id": "Q498XJYGuD0J"
      }
    },
    {
      "cell_type": "markdown",
      "source": [
        "# Write a shorts notes on TAG and ELEMENTS With an example?"
      ],
      "metadata": {
        "id": "1o9EzmUuwwk8"
      }
    },
    {
      "cell_type": "markdown",
      "source": [
        "TAGS : it is a keyword that defines a specific element on a webpage.\n",
        "\n",
        "EXAMPLE : < p > (opening tag) and < /p > (closing tab)\n",
        "\n",
        "\n",
        "ELEMENT : An element is the complete structure formed by an opening tag , its content and a closing tag.\n",
        "\n",
        "EXAMPLE : < p > THIS IS  A PARAGRAPH < /p >\n",
        "here is all together forming  a paragraph element.\n"
      ],
      "metadata": {
        "id": "5SH5EMCcxD5t"
      }
    },
    {
      "cell_type": "markdown",
      "source": [
        "# What is the DOCTYPE decleration in HTML ?"
      ],
      "metadata": {
        "id": "jm_Xm3q1ytSX"
      }
    },
    {
      "cell_type": "markdown",
      "source": [
        "The HTML doctype declaration <!DOCTYPE html> is a crucial instruction at the beginning of an HTML document that tells the webbrowser  which version of HTML has page is written by ensuring corerct rendering .\n"
      ],
      "metadata": {
        "id": "M6ksFDHUy66W"
      }
    }
  ]
}